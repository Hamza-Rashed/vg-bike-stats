{
 "cells": [
  {
   "cell_type": "code",
   "execution_count": 27,
   "metadata": {},
   "outputs": [],
   "source": [
    "import pandas as pd"
   ]
  },
  {
   "cell_type": "code",
   "execution_count": 5,
   "metadata": {},
   "outputs": [],
   "source": [
    "df =pd.read_csv('./vgsales.csv')"
   ]
  },
  {
   "source": [
    "## Hello , I'm Hamza let's answer together the following questions"
   ],
   "cell_type": "markdown",
   "metadata": {}
  },
  {
   "source": [
    "# Which company is the most common video game publisher?"
   ],
   "cell_type": "markdown",
   "metadata": {}
  },
  {
   "cell_type": "code",
   "execution_count": 10,
   "metadata": {},
   "outputs": [
    {
     "output_type": "execute_result",
     "data": {
      "text/plain": [
       "'Electronic Arts'"
      ]
     },
     "metadata": {},
     "execution_count": 10
    }
   ],
   "source": [
    "data_publisher=df['Publisher']\n",
    "most_common_publisher=data_publisher.mode()\n",
    "most_common_publisher[0]"
   ]
  },
  {
   "source": [
    "# What’s the most common platform?"
   ],
   "cell_type": "markdown",
   "metadata": {}
  },
  {
   "cell_type": "code",
   "execution_count": 11,
   "metadata": {},
   "outputs": [
    {
     "output_type": "execute_result",
     "data": {
      "text/plain": [
       "'DS'"
      ]
     },
     "metadata": {},
     "execution_count": 11
    }
   ],
   "source": [
    "data_platform=df['Platform']\n",
    "most_common_platform=data_platform.mode()\n",
    "most_common_platform[0]"
   ]
  },
  {
   "source": [
    "# What about the most common genre?"
   ],
   "cell_type": "markdown",
   "metadata": {}
  },
  {
   "cell_type": "code",
   "execution_count": 12,
   "metadata": {},
   "outputs": [
    {
     "output_type": "execute_result",
     "data": {
      "text/plain": [
       "'Action'"
      ]
     },
     "metadata": {},
     "execution_count": 12
    }
   ],
   "source": [
    "data_genre=df['Genre']\n",
    "most_common_genre=data_genre.mode()\n",
    "most_common_genre[0]"
   ]
  },
  {
   "source": [
    "# What are the top 20 highest grossing games?"
   ],
   "cell_type": "markdown",
   "metadata": {}
  },
  {
   "source": [
    "data_20_highest = df[['Name' , 'Global_Sales']].sort_values('Global_Sales',ascending=False)\n",
    "top_20_highest = data_20_highest.head(20)\n",
    "top_20_highest"
   ],
   "cell_type": "code",
   "metadata": {},
   "execution_count": 15,
   "outputs": [
    {
     "output_type": "execute_result",
     "data": {
      "text/plain": [
       "                                            Name  Global_Sales\n",
       "0                                     Wii Sports         82.74\n",
       "1                              Super Mario Bros.         40.24\n",
       "2                                 Mario Kart Wii         35.82\n",
       "3                              Wii Sports Resort         33.00\n",
       "4                       Pokemon Red/Pokemon Blue         31.37\n",
       "5                                         Tetris         30.26\n",
       "6                          New Super Mario Bros.         30.01\n",
       "7                                       Wii Play         29.02\n",
       "8                      New Super Mario Bros. Wii         28.62\n",
       "9                                      Duck Hunt         28.31\n",
       "10                                    Nintendogs         24.76\n",
       "11                                 Mario Kart DS         23.42\n",
       "12                   Pokemon Gold/Pokemon Silver         23.10\n",
       "13                                       Wii Fit         22.72\n",
       "14                                  Wii Fit Plus         22.00\n",
       "15                            Kinect Adventures!         21.82\n",
       "16                            Grand Theft Auto V         21.40\n",
       "17                 Grand Theft Auto: San Andreas         20.81\n",
       "18                             Super Mario World         20.61\n",
       "19  Brain Age: Train Your Brain in Minutes a Day         20.22"
      ],
      "text/html": "<div>\n<style scoped>\n    .dataframe tbody tr th:only-of-type {\n        vertical-align: middle;\n    }\n\n    .dataframe tbody tr th {\n        vertical-align: top;\n    }\n\n    .dataframe thead th {\n        text-align: right;\n    }\n</style>\n<table border=\"1\" class=\"dataframe\">\n  <thead>\n    <tr style=\"text-align: right;\">\n      <th></th>\n      <th>Name</th>\n      <th>Global_Sales</th>\n    </tr>\n  </thead>\n  <tbody>\n    <tr>\n      <th>0</th>\n      <td>Wii Sports</td>\n      <td>82.74</td>\n    </tr>\n    <tr>\n      <th>1</th>\n      <td>Super Mario Bros.</td>\n      <td>40.24</td>\n    </tr>\n    <tr>\n      <th>2</th>\n      <td>Mario Kart Wii</td>\n      <td>35.82</td>\n    </tr>\n    <tr>\n      <th>3</th>\n      <td>Wii Sports Resort</td>\n      <td>33.00</td>\n    </tr>\n    <tr>\n      <th>4</th>\n      <td>Pokemon Red/Pokemon Blue</td>\n      <td>31.37</td>\n    </tr>\n    <tr>\n      <th>5</th>\n      <td>Tetris</td>\n      <td>30.26</td>\n    </tr>\n    <tr>\n      <th>6</th>\n      <td>New Super Mario Bros.</td>\n      <td>30.01</td>\n    </tr>\n    <tr>\n      <th>7</th>\n      <td>Wii Play</td>\n      <td>29.02</td>\n    </tr>\n    <tr>\n      <th>8</th>\n      <td>New Super Mario Bros. Wii</td>\n      <td>28.62</td>\n    </tr>\n    <tr>\n      <th>9</th>\n      <td>Duck Hunt</td>\n      <td>28.31</td>\n    </tr>\n    <tr>\n      <th>10</th>\n      <td>Nintendogs</td>\n      <td>24.76</td>\n    </tr>\n    <tr>\n      <th>11</th>\n      <td>Mario Kart DS</td>\n      <td>23.42</td>\n    </tr>\n    <tr>\n      <th>12</th>\n      <td>Pokemon Gold/Pokemon Silver</td>\n      <td>23.10</td>\n    </tr>\n    <tr>\n      <th>13</th>\n      <td>Wii Fit</td>\n      <td>22.72</td>\n    </tr>\n    <tr>\n      <th>14</th>\n      <td>Wii Fit Plus</td>\n      <td>22.00</td>\n    </tr>\n    <tr>\n      <th>15</th>\n      <td>Kinect Adventures!</td>\n      <td>21.82</td>\n    </tr>\n    <tr>\n      <th>16</th>\n      <td>Grand Theft Auto V</td>\n      <td>21.40</td>\n    </tr>\n    <tr>\n      <th>17</th>\n      <td>Grand Theft Auto: San Andreas</td>\n      <td>20.81</td>\n    </tr>\n    <tr>\n      <th>18</th>\n      <td>Super Mario World</td>\n      <td>20.61</td>\n    </tr>\n    <tr>\n      <th>19</th>\n      <td>Brain Age: Train Your Brain in Minutes a Day</td>\n      <td>20.22</td>\n    </tr>\n  </tbody>\n</table>\n</div>"
     },
     "metadata": {},
     "execution_count": 15
    }
   ]
  },
  {
   "source": [
    "# For North American video game sales, what’s the median?\n"
   ],
   "cell_type": "markdown",
   "metadata": {}
  },
  {
   "cell_type": "code",
   "execution_count": 17,
   "metadata": {},
   "outputs": [
    {
     "output_type": "execute_result",
     "data": {
      "text/plain": [
       "0.08"
      ]
     },
     "metadata": {},
     "execution_count": 17
    }
   ],
   "source": [
    "North_sales=df['NA_Sales']\n",
    "North_American_video_game=North_sales.median()\n",
    "North_American_video_game\n",
    "\n",
    "location_game_sales=df[df['NA_Sales']== North_American_video_game]\n",
    "num_game=len(location_game_sales) \n",
    "num_game\n",
    "\n",
    "North_American_video_game"
   ]
  },
  {
   "cell_type": "code",
   "execution_count": 20,
   "metadata": {},
   "outputs": [
    {
     "output_type": "stream",
     "name": "stdout",
     "text": [
      "Spider-Man: Edge of Time\nTurok: Evolution\nDeadpool\nGT Advance 2: Rally Racing\nA Witch's Tale\nNickelodeon Dance\nPhantasy Star Collection\nLEGO Knights' Kingdom\nFamily Game Night 4: The Game Show\nNBA Jam 2002\n"
     ]
    }
   ],
   "source": [
    "mid=round(num_of_game_with_median/2) \n",
    "ten_games_median=location_game_sales[(mid-6):(mid+4)]\n",
    "for i in ten_games_median['Name']:\n",
    "    print(i)"
   ]
  },
  {
   "source": [
    "# The Nintendo Wii seems to have outdone itself with games. How does its average number of sales compare with all of the other platforms?"
   ],
   "cell_type": "markdown",
   "metadata": {}
  },
  {
   "cell_type": "code",
   "execution_count": 22,
   "metadata": {},
   "outputs": [
    {
     "output_type": "execute_result",
     "data": {
      "text/plain": [
       "0.17601413173327207"
      ]
     },
     "metadata": {},
     "execution_count": 22
    }
   ],
   "source": [
    "platform_data=df[df['Platform'] !='Wii'].Global_Sales.mean()\n",
    "wii_platform_list=df[df['Platform'] =='Wii'].Global_Sales.mean()\n",
    "result_compare=abs(platform_data-wii_platform_list)\n",
    "result_compare"
   ]
  },
  {
   "source": [
    "# What the most popular game in Europe ?"
   ],
   "cell_type": "markdown",
   "metadata": {}
  },
  {
   "cell_type": "code",
   "execution_count": 23,
   "metadata": {},
   "outputs": [
    {
     "output_type": "execute_result",
     "data": {
      "text/plain": [
       "'Wii Sports'"
      ]
     },
     "metadata": {},
     "execution_count": 23
    }
   ],
   "source": [
    "m_europe=df.sort_values('EU_Sales',ascending=False)\n",
    "m_europe.iloc[0]['Name']"
   ]
  },
  {
   "source": [
    "# What is the least popular game in Europe?"
   ],
   "cell_type": "markdown",
   "metadata": {}
  },
  {
   "cell_type": "code",
   "execution_count": 24,
   "metadata": {},
   "outputs": [
    {
     "output_type": "execute_result",
     "data": {
      "text/plain": [
       "'Spirits & Spells'"
      ]
     },
     "metadata": {},
     "execution_count": 24
    }
   ],
   "source": [
    "m_europe=df.sort_values('EU_Sales',ascending=True)\n",
    "m_europe.iloc[0]['Name']"
   ]
  },
  {
   "source": [
    "# I love racing game .. let's take the top 20 racing game .. "
   ],
   "cell_type": "markdown",
   "metadata": {}
  },
  {
   "cell_type": "code",
   "execution_count": 26,
   "metadata": {},
   "outputs": [
    {
     "output_type": "execute_result",
     "data": {
      "text/plain": [
       "     Rank                          Name Platform    Year   Genre  \\\n",
       "2       3                Mario Kart Wii      Wii  2008.0  Racing   \n",
       "11     12                 Mario Kart DS       DS  2005.0  Racing   \n",
       "28     29        Gran Turismo 3: A-Spec      PS2  2001.0  Racing   \n",
       "42     43                  Mario Kart 7      3DS  2011.0  Racing   \n",
       "47     48                Gran Turismo 4      PS2  2004.0  Racing   \n",
       "52     53                  Gran Turismo       PS  1997.0  Racing   \n",
       "54     55                Gran Turismo 5      PS3  2010.0  Racing   \n",
       "63     64                 Mario Kart 64      N64  1996.0  Racing   \n",
       "69     70                Gran Turismo 2       PS  1999.0  Racing   \n",
       "76     77              Super Mario Kart     SNES  1992.0  Racing   \n",
       "104   105    Need for Speed Underground      PS2  2003.0  Racing   \n",
       "108   109                  Mario Kart 8     WiiU  2014.0  Racing   \n",
       "110   111     Mario Kart: Double Dash!!       GC  2003.0  Racing   \n",
       "113   114  Need for Speed Underground 2      PS2  2004.0  Racing   \n",
       "160   161            Forza Motorsport 3     X360  2009.0  Racing   \n",
       "163   164     Mario Kart: Super Circuit      GBA  2001.0  Racing   \n",
       "213   214             Diddy Kong Racing      N64  1997.0  Racing   \n",
       "220   221             Crash Team Racing       PS  1999.0  Racing   \n",
       "224   225       The Simpsons: Hit & Run      PS2  2003.0  Racing   \n",
       "228   229            Forza Motorsport 4     X360  2011.0  Racing   \n",
       "\n",
       "                       Publisher  NA_Sales  EU_Sales  JP_Sales  Other_Sales  \\\n",
       "2                       Nintendo     15.85     12.88      3.79         3.31   \n",
       "11                      Nintendo      9.81      7.57      4.13         1.92   \n",
       "28   Sony Computer Entertainment      6.85      5.09      1.87         1.16   \n",
       "42                      Nintendo      4.74      3.91      2.67         0.89   \n",
       "47   Sony Computer Entertainment      3.01      0.01      1.10         7.53   \n",
       "52   Sony Computer Entertainment      4.02      3.87      2.54         0.52   \n",
       "54   Sony Computer Entertainment      2.96      4.88      0.81         2.12   \n",
       "63                      Nintendo      5.55      1.94      2.23         0.15   \n",
       "69   Sony Computer Entertainment      3.88      3.42      1.69         0.50   \n",
       "76                      Nintendo      3.54      1.24      3.81         0.18   \n",
       "104              Electronic Arts      3.27      2.83      0.08         1.02   \n",
       "108                     Nintendo      3.13      2.07      1.27         0.49   \n",
       "110                     Nintendo      4.12      1.77      0.87         0.19   \n",
       "113              Electronic Arts      2.71      3.02      0.08         1.09   \n",
       "160       Microsoft Game Studios      2.99      1.92      0.10         0.51   \n",
       "163                     Nintendo      2.62      1.64      0.99         0.23   \n",
       "213                     Nintendo      2.91      0.99      0.89         0.10   \n",
       "220  Sony Computer Entertainment      2.57      1.57      0.44         0.21   \n",
       "224                Vivendi Games      1.73      2.19      0.00         0.79   \n",
       "228       Microsoft Game Studios      2.08      2.04      0.06         0.47   \n",
       "\n",
       "     Global_Sales  \n",
       "2           35.82  \n",
       "11          23.42  \n",
       "28          14.98  \n",
       "42          12.21  \n",
       "47          11.66  \n",
       "52          10.95  \n",
       "54          10.77  \n",
       "63           9.87  \n",
       "69           9.49  \n",
       "76           8.76  \n",
       "104          7.20  \n",
       "108          6.96  \n",
       "110          6.95  \n",
       "113          6.90  \n",
       "160          5.51  \n",
       "163          5.47  \n",
       "213          4.88  \n",
       "220          4.79  \n",
       "224          4.70  \n",
       "228          4.64  "
      ],
      "text/html": "<div>\n<style scoped>\n    .dataframe tbody tr th:only-of-type {\n        vertical-align: middle;\n    }\n\n    .dataframe tbody tr th {\n        vertical-align: top;\n    }\n\n    .dataframe thead th {\n        text-align: right;\n    }\n</style>\n<table border=\"1\" class=\"dataframe\">\n  <thead>\n    <tr style=\"text-align: right;\">\n      <th></th>\n      <th>Rank</th>\n      <th>Name</th>\n      <th>Platform</th>\n      <th>Year</th>\n      <th>Genre</th>\n      <th>Publisher</th>\n      <th>NA_Sales</th>\n      <th>EU_Sales</th>\n      <th>JP_Sales</th>\n      <th>Other_Sales</th>\n      <th>Global_Sales</th>\n    </tr>\n  </thead>\n  <tbody>\n    <tr>\n      <th>2</th>\n      <td>3</td>\n      <td>Mario Kart Wii</td>\n      <td>Wii</td>\n      <td>2008.0</td>\n      <td>Racing</td>\n      <td>Nintendo</td>\n      <td>15.85</td>\n      <td>12.88</td>\n      <td>3.79</td>\n      <td>3.31</td>\n      <td>35.82</td>\n    </tr>\n    <tr>\n      <th>11</th>\n      <td>12</td>\n      <td>Mario Kart DS</td>\n      <td>DS</td>\n      <td>2005.0</td>\n      <td>Racing</td>\n      <td>Nintendo</td>\n      <td>9.81</td>\n      <td>7.57</td>\n      <td>4.13</td>\n      <td>1.92</td>\n      <td>23.42</td>\n    </tr>\n    <tr>\n      <th>28</th>\n      <td>29</td>\n      <td>Gran Turismo 3: A-Spec</td>\n      <td>PS2</td>\n      <td>2001.0</td>\n      <td>Racing</td>\n      <td>Sony Computer Entertainment</td>\n      <td>6.85</td>\n      <td>5.09</td>\n      <td>1.87</td>\n      <td>1.16</td>\n      <td>14.98</td>\n    </tr>\n    <tr>\n      <th>42</th>\n      <td>43</td>\n      <td>Mario Kart 7</td>\n      <td>3DS</td>\n      <td>2011.0</td>\n      <td>Racing</td>\n      <td>Nintendo</td>\n      <td>4.74</td>\n      <td>3.91</td>\n      <td>2.67</td>\n      <td>0.89</td>\n      <td>12.21</td>\n    </tr>\n    <tr>\n      <th>47</th>\n      <td>48</td>\n      <td>Gran Turismo 4</td>\n      <td>PS2</td>\n      <td>2004.0</td>\n      <td>Racing</td>\n      <td>Sony Computer Entertainment</td>\n      <td>3.01</td>\n      <td>0.01</td>\n      <td>1.10</td>\n      <td>7.53</td>\n      <td>11.66</td>\n    </tr>\n    <tr>\n      <th>52</th>\n      <td>53</td>\n      <td>Gran Turismo</td>\n      <td>PS</td>\n      <td>1997.0</td>\n      <td>Racing</td>\n      <td>Sony Computer Entertainment</td>\n      <td>4.02</td>\n      <td>3.87</td>\n      <td>2.54</td>\n      <td>0.52</td>\n      <td>10.95</td>\n    </tr>\n    <tr>\n      <th>54</th>\n      <td>55</td>\n      <td>Gran Turismo 5</td>\n      <td>PS3</td>\n      <td>2010.0</td>\n      <td>Racing</td>\n      <td>Sony Computer Entertainment</td>\n      <td>2.96</td>\n      <td>4.88</td>\n      <td>0.81</td>\n      <td>2.12</td>\n      <td>10.77</td>\n    </tr>\n    <tr>\n      <th>63</th>\n      <td>64</td>\n      <td>Mario Kart 64</td>\n      <td>N64</td>\n      <td>1996.0</td>\n      <td>Racing</td>\n      <td>Nintendo</td>\n      <td>5.55</td>\n      <td>1.94</td>\n      <td>2.23</td>\n      <td>0.15</td>\n      <td>9.87</td>\n    </tr>\n    <tr>\n      <th>69</th>\n      <td>70</td>\n      <td>Gran Turismo 2</td>\n      <td>PS</td>\n      <td>1999.0</td>\n      <td>Racing</td>\n      <td>Sony Computer Entertainment</td>\n      <td>3.88</td>\n      <td>3.42</td>\n      <td>1.69</td>\n      <td>0.50</td>\n      <td>9.49</td>\n    </tr>\n    <tr>\n      <th>76</th>\n      <td>77</td>\n      <td>Super Mario Kart</td>\n      <td>SNES</td>\n      <td>1992.0</td>\n      <td>Racing</td>\n      <td>Nintendo</td>\n      <td>3.54</td>\n      <td>1.24</td>\n      <td>3.81</td>\n      <td>0.18</td>\n      <td>8.76</td>\n    </tr>\n    <tr>\n      <th>104</th>\n      <td>105</td>\n      <td>Need for Speed Underground</td>\n      <td>PS2</td>\n      <td>2003.0</td>\n      <td>Racing</td>\n      <td>Electronic Arts</td>\n      <td>3.27</td>\n      <td>2.83</td>\n      <td>0.08</td>\n      <td>1.02</td>\n      <td>7.20</td>\n    </tr>\n    <tr>\n      <th>108</th>\n      <td>109</td>\n      <td>Mario Kart 8</td>\n      <td>WiiU</td>\n      <td>2014.0</td>\n      <td>Racing</td>\n      <td>Nintendo</td>\n      <td>3.13</td>\n      <td>2.07</td>\n      <td>1.27</td>\n      <td>0.49</td>\n      <td>6.96</td>\n    </tr>\n    <tr>\n      <th>110</th>\n      <td>111</td>\n      <td>Mario Kart: Double Dash!!</td>\n      <td>GC</td>\n      <td>2003.0</td>\n      <td>Racing</td>\n      <td>Nintendo</td>\n      <td>4.12</td>\n      <td>1.77</td>\n      <td>0.87</td>\n      <td>0.19</td>\n      <td>6.95</td>\n    </tr>\n    <tr>\n      <th>113</th>\n      <td>114</td>\n      <td>Need for Speed Underground 2</td>\n      <td>PS2</td>\n      <td>2004.0</td>\n      <td>Racing</td>\n      <td>Electronic Arts</td>\n      <td>2.71</td>\n      <td>3.02</td>\n      <td>0.08</td>\n      <td>1.09</td>\n      <td>6.90</td>\n    </tr>\n    <tr>\n      <th>160</th>\n      <td>161</td>\n      <td>Forza Motorsport 3</td>\n      <td>X360</td>\n      <td>2009.0</td>\n      <td>Racing</td>\n      <td>Microsoft Game Studios</td>\n      <td>2.99</td>\n      <td>1.92</td>\n      <td>0.10</td>\n      <td>0.51</td>\n      <td>5.51</td>\n    </tr>\n    <tr>\n      <th>163</th>\n      <td>164</td>\n      <td>Mario Kart: Super Circuit</td>\n      <td>GBA</td>\n      <td>2001.0</td>\n      <td>Racing</td>\n      <td>Nintendo</td>\n      <td>2.62</td>\n      <td>1.64</td>\n      <td>0.99</td>\n      <td>0.23</td>\n      <td>5.47</td>\n    </tr>\n    <tr>\n      <th>213</th>\n      <td>214</td>\n      <td>Diddy Kong Racing</td>\n      <td>N64</td>\n      <td>1997.0</td>\n      <td>Racing</td>\n      <td>Nintendo</td>\n      <td>2.91</td>\n      <td>0.99</td>\n      <td>0.89</td>\n      <td>0.10</td>\n      <td>4.88</td>\n    </tr>\n    <tr>\n      <th>220</th>\n      <td>221</td>\n      <td>Crash Team Racing</td>\n      <td>PS</td>\n      <td>1999.0</td>\n      <td>Racing</td>\n      <td>Sony Computer Entertainment</td>\n      <td>2.57</td>\n      <td>1.57</td>\n      <td>0.44</td>\n      <td>0.21</td>\n      <td>4.79</td>\n    </tr>\n    <tr>\n      <th>224</th>\n      <td>225</td>\n      <td>The Simpsons: Hit &amp; Run</td>\n      <td>PS2</td>\n      <td>2003.0</td>\n      <td>Racing</td>\n      <td>Vivendi Games</td>\n      <td>1.73</td>\n      <td>2.19</td>\n      <td>0.00</td>\n      <td>0.79</td>\n      <td>4.70</td>\n    </tr>\n    <tr>\n      <th>228</th>\n      <td>229</td>\n      <td>Forza Motorsport 4</td>\n      <td>X360</td>\n      <td>2011.0</td>\n      <td>Racing</td>\n      <td>Microsoft Game Studios</td>\n      <td>2.08</td>\n      <td>2.04</td>\n      <td>0.06</td>\n      <td>0.47</td>\n      <td>4.64</td>\n    </tr>\n  </tbody>\n</table>\n</div>"
     },
     "metadata": {},
     "execution_count": 26
    }
   ],
   "source": [
    "df[df['Genre'] == 'Racing'].sort_values('Global_Sales', ascending=False).head(20)"
   ]
  }
 ],
 "metadata": {
  "kernelspec": {
   "display_name": "Python 3",
   "language": "python",
   "name": "python3"
  },
  "language_info": {
   "codemirror_mode": {
    "name": "ipython",
    "version": 3
   },
   "file_extension": ".py",
   "mimetype": "text/x-python",
   "name": "python",
   "nbconvert_exporter": "python",
   "pygments_lexer": "ipython3",
   "version": "3.8.3-final"
  }
 },
 "nbformat": 4,
 "nbformat_minor": 2
}