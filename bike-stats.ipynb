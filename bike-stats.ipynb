{
 "metadata": {
  "language_info": {
   "codemirror_mode": {
    "name": "ipython",
    "version": 3
   },
   "file_extension": ".py",
   "mimetype": "text/x-python",
   "name": "python",
   "nbconvert_exporter": "python",
   "pygments_lexer": "ipython3",
   "version": "3.8.3-final"
  },
  "orig_nbformat": 2,
  "kernelspec": {
   "name": "python3",
   "display_name": "Python 3",
   "language": "python"
  }
 },
 "nbformat": 4,
 "nbformat_minor": 2,
 "cells": [
  {
   "source": [
    "# Hello , I'm Hamza .. Let's answer together the following questions "
   ],
   "cell_type": "markdown",
   "metadata": {}
  },
  {
   "cell_type": "code",
   "execution_count": 16,
   "metadata": {},
   "outputs": [],
   "source": [
    "import pandas as pd"
   ]
  },
  {
   "cell_type": "code",
   "execution_count": 17,
   "metadata": {},
   "outputs": [
    {
     "output_type": "stream",
     "name": "stderr",
     "text": [
      "b'Skipping line 50794: expected 12 fields, saw 20\\n'\n"
     ]
    }
   ],
   "source": [
    "weather = pd.read_csv('weather.csv')\n",
    "station = pd.read_csv('station.csv')\n",
    "trip = pd.read_csv('trip.csv',error_bad_lines=False)"
   ]
  },
  {
   "source": [
    "# What is the average trip duration for a borrowed bicycle?"
   ],
   "cell_type": "markdown",
   "metadata": {}
  },
  {
   "cell_type": "code",
   "execution_count": 18,
   "metadata": {},
   "outputs": [
    {
     "output_type": "execute_result",
     "data": {
      "text/plain": [
       "1178.2956753399776"
      ]
     },
     "metadata": {},
     "execution_count": 18
    }
   ],
   "source": [
    "average_trip = trip['tripduration'].mean()\n",
    "average_trip"
   ]
  },
  {
   "source": [
    "# What’s the most common age of a bicycle-sharer?"
   ],
   "cell_type": "markdown",
   "metadata": {}
  },
  {
   "cell_type": "code",
   "execution_count": 19,
   "metadata": {},
   "outputs": [
    {
     "output_type": "execute_result",
     "data": {
      "text/plain": [
       "33"
      ]
     },
     "metadata": {},
     "execution_count": 19
    }
   ],
   "source": [
    "age_sharer=trip['birthyear'].mode()[0]\n",
    "common_age=round(2020-age_sharer)\n",
    "common_age"
   ]
  },
  {
   "source": [
    "# Given all the weather data here, find the average precipitation per month, and the median precipitation."
   ],
   "cell_type": "markdown",
   "metadata": {}
  },
  {
   "cell_type": "code",
   "execution_count": 26,
   "metadata": {},
   "outputs": [
    {
     "output_type": "stream",
     "name": "stdout",
     "text": [
      "By Average\n"
     ]
    },
    {
     "output_type": "execute_result",
     "data": {
      "text/plain": [
       "Month\n",
       "1     0.143548\n",
       "2     0.168421\n",
       "3     0.156935\n",
       "4     0.051333\n",
       "5     0.012419\n",
       "6     0.030500\n",
       "7     0.012097\n",
       "8     0.018226\n",
       "9     0.041000\n",
       "10    0.189000\n",
       "11    0.187833\n",
       "12    0.236290\n",
       "Name: Precipitation_In, dtype: float64"
      ]
     },
     "metadata": {},
     "execution_count": 26
    }
   ],
   "source": [
    "def data_month(date):\n",
    "    return int(date.split('/')[0])\n",
    "weather['Month']=weather['Date'].apply(data_month)\n",
    "Precipitation=weather.groupby('Month')['Precipitation_In']\n",
    "print('By Average')\n",
    "Precipitation.mean()"
   ]
  },
  {
   "cell_type": "code",
   "execution_count": 27,
   "metadata": {},
   "outputs": [
    {
     "output_type": "stream",
     "name": "stdout",
     "text": [
      "By Median\n"
     ]
    },
    {
     "output_type": "execute_result",
     "data": {
      "text/plain": [
       "Month\n",
       "1     0.020\n",
       "2     0.040\n",
       "3     0.025\n",
       "4     0.000\n",
       "5     0.000\n",
       "6     0.000\n",
       "7     0.000\n",
       "8     0.000\n",
       "9     0.000\n",
       "10    0.040\n",
       "11    0.035\n",
       "12    0.100\n",
       "Name: Precipitation_In, dtype: float64"
      ]
     },
     "metadata": {},
     "execution_count": 27
    }
   ],
   "source": [
    "print('By Median')\n",
    "Precipitation.median()"
   ]
  },
  {
   "source": [
    "# What’s the average number of bikes at a given bike station?"
   ],
   "cell_type": "markdown",
   "metadata": {}
  },
  {
   "cell_type": "code",
   "execution_count": 28,
   "metadata": {},
   "outputs": [
    {
     "output_type": "execute_result",
     "data": {
      "text/plain": [
       "16.517241379310345"
      ]
     },
     "metadata": {},
     "execution_count": 28
    }
   ],
   "source": [
    "station.current_dockcount.mean()"
   ]
  },
  {
   "source": [
    "# When a bike station is modified, is it more likely that it’ll lose bikes or gain bikes? How do you know?"
   ],
   "cell_type": "markdown",
   "metadata": {}
  },
  {
   "cell_type": "code",
   "execution_count": 29,
   "metadata": {},
   "outputs": [
    {
     "output_type": "execute_result",
     "data": {
      "text/plain": [
       "-64"
      ]
     },
     "metadata": {},
     "execution_count": 29
    }
   ],
   "source": [
    "station=station[['modification_date','install_dockcount','current_dockcount']].dropna()\n",
    "station['current_dockcount'].sum()-station['install_dockcount'].sum()"
   ]
  }
 ]
}